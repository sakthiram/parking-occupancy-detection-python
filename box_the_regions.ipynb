{
 "cells": [
  {
   "cell_type": "code",
   "execution_count": 2,
   "metadata": {
    "collapsed": true
   },
   "outputs": [],
   "source": [
    "import tkinter as tk\n",
    "from PIL import Image, ImageTk, ImageChops"
   ]
  },
  {
   "cell_type": "code",
   "execution_count": 37,
   "metadata": {
    "collapsed": true
   },
   "outputs": [],
   "source": [
    "class TKcanvas_setup(tk.Toplevel):\n",
    "    def __init__(self, setup_image, master):\n",
    "#         tk.Toplevel.__init__(self)\n",
    "        #tk.Tk.__init__(self)\n",
    "        self.x = self.y = 0\n",
    "        self.image = ImageTk.PhotoImage(setup_image, master) # Use correct master else create_image fails (when Toplevel not used)\n",
    "        self.canvas = tk.Canvas(master, width=self.image.width(), height=self.image.height(), cursor=\"cross\")\n",
    "        self.canvas.pack(side=\"top\", fill=\"both\", expand=True)\n",
    "        self.canvas.bind(\"<ButtonPress-1>\", self.on_button_press)\n",
    "        self.canvas.bind(\"<ButtonRelease-1>\", self.on_button_release)\n",
    "        self.canvas.bind(\"<B1-Motion>\", self.on_button_move)\n",
    "        self.canvas.create_image((self.image.width() / 2, self.image.height() / 2), image=self.image)\n",
    "        self.lines = []\n",
    "        # Can combine below variables into struct & create a list of struct instead of \"list of each var\"\n",
    "        self.obj_list = []\n",
    "        self.full_obj_marker_list = []\n",
    "        self.saved_rect_list = []\n",
    "        self.saved_obj_text = []\n",
    "\n",
    "    def on_button_press(self, event):\n",
    "        self.x = event.x\n",
    "        self.y = event.y\n",
    "\n",
    "    def on_button_move(self, event):\n",
    "        x0, y0 = (self.x, self.y)\n",
    "        x1, y1 = (event.x, event.y)\n",
    "\n",
    "        # Remove lines\n",
    "        for line_id in self.lines:\n",
    "            self.canvas.delete(line_id)\n",
    "\n",
    "        self.lines = []\n",
    "\n",
    "        self.lines.append(self.canvas.create_line(x0, y0, x0, y1, fill=\"black\"))\n",
    "        self.lines.append(self.canvas.create_line(x0, y1, x1, y1, fill=\"black\"))\n",
    "        self.lines.append(self.canvas.create_line(x1, y1, x1, y0, fill=\"black\"))\n",
    "        self.lines.append(self.canvas.create_line(x1, y0, x0, y0, fill=\"black\"))\n",
    "\n",
    "    def on_button_release(self, event):\n",
    "        x0, y0 = (self.x, self.y)\n",
    "        x1, y1 = (event.x, event.y)\n",
    "\n",
    "        for line_id in self.lines:\n",
    "            self.canvas.delete(line_id)\n",
    "\n",
    "        self.lines = []\n",
    "\n",
    "        self.lines.append(self.canvas.create_line(x0, y0, x0, y1, fill=\"red\"))\n",
    "        self.lines.append(self.canvas.create_line(x0, y1, x1, y1, fill=\"red\"))\n",
    "        self.lines.append(self.canvas.create_line(x1, y1, x1, y0, fill=\"red\"))\n",
    "        self.lines.append(self.canvas.create_line(x1, y0, x0, y0, fill=\"red\"))\n",
    "#       self.canvas.create_rectangle(x0, y0, x1, y1, fill=\"black\")\n",
    "\n",
    "        self.full_obj_marker = (x0, y0, x1, y1)\n",
    "        obj_name = self.get_object_info(())\n",
    "    \n",
    "    def get_object_info(self, full_obj_marker):\n",
    "        obj_entry_box = tk.Tk()\n",
    "        tk.Label(obj_entry_box, text=\"Item Name\").grid(row=0)\n",
    "        self.e1 = tk.Entry(obj_entry_box)\n",
    "        self.e1.grid(row=0, column=1)\n",
    "        tk.Button(obj_entry_box, text='Save', command=self.save_marker).grid(row=2, column=0, sticky=tk.W, pady=4)\n",
    "        tk.Button(obj_entry_box, text='Quit', command=obj_entry_box.destroy).grid(row=2, column=1, sticky=tk.W, pady=4)\n",
    "        tk.Button(obj_entry_box, text='Delete', command=self.del_marker).grid(row=2, column=3, sticky=tk.W, pady=4)\n",
    "\n",
    "    def save_marker(self):\n",
    "        obj_name = self.e1.get()\n",
    "        if (obj_name not in self.obj_list and self.full_obj_marker not in self.full_obj_marker_list):\n",
    "            self.obj_list.append(obj_name)\n",
    "            self.full_obj_marker_list.append(self.full_obj_marker)\n",
    "            self.saved_rect_list.append(self.canvas.create_rectangle(self.full_obj_marker, outline=\"green\"))\n",
    "            center_x = (self.full_obj_marker[0]+self.full_obj_marker[2])/2\n",
    "            center_y = (self.full_obj_marker[1]+self.full_obj_marker[3])/2\n",
    "            self.saved_obj_text.append(self.canvas.create_text(center_x, center_y, fill=\"green\",\n",
    "                                                               font=\"Times 20 italic bold\", text=obj_name))\n",
    "        else:\n",
    "            # Add another dialog box that warns user that the obj_name already exists\n",
    "            print (\"Warning: Object name or Marker already present\")\n",
    "    \n",
    "    def del_marker(self):\n",
    "        obj_name = self.e1.get()\n",
    "        if obj_name in self.obj_list:  \n",
    "            obj_idx  = self.obj_list.index(obj_name)\n",
    "            self.obj_list.pop(obj_idx)\n",
    "            self.full_obj_marker_list.pop(obj_idx)\n",
    "            self.canvas.delete(self.saved_rect_list[obj_idx])\n",
    "            self.saved_rect_list.pop(obj_idx)\n",
    "            self.canvas.delete(self.saved_obj_text[obj_idx])\n",
    "            self.saved_obj_text.pop(obj_idx)\n",
    "        else:\n",
    "            # Add another dialog box that warns user that the obj_name already exists\n",
    "            print (\"Warning: Object name not present\")"
   ]
  },
  {
   "cell_type": "code",
   "execution_count": 42,
   "metadata": {
    "collapsed": true
   },
   "outputs": [],
   "source": [
    "# SETUP BOXES\n",
    "setup_image = Image.open(\"test.jpg\")\n",
    "#root = tk.Toplevel()\n",
    "\n",
    "root = tk.Tk()\n",
    "TKcanvas_setup_inst = TKcanvas_setup(setup_image, root)\n",
    "root.mainloop()"
   ]
  },
  {
   "cell_type": "code",
   "execution_count": 54,
   "metadata": {},
   "outputs": [
    {
     "name": "stdout",
     "output_type": "stream",
     "text": [
      "['Lot1', 'Lot2', 'Lot3', 'Lot4', 'Lot5', 'Lot6']\n"
     ]
    }
   ],
   "source": [
    "# SEND BOX COORDINATES TO DYNAMODB TABLE\n",
    "print (TKcanvas_setup_inst.obj_list)"
   ]
  },
  {
   "cell_type": "code",
   "execution_count": 60,
   "metadata": {},
   "outputs": [
    {
     "name": "stdout",
     "output_type": "stream",
     "text": [
      "{\"Lot1\": [32, 264, 264, 515], \"Lot2\": [200, 402, 404, 656], \"Lot3\": [360, 570, 586, 799], \"Lot4\": [624, 4, 906, 206], \"Lot5\": [771, 120, 1041, 368], \"Lot6\": [959, 251, 1200, 493]}\n"
     ]
    }
   ],
   "source": [
    "import json\n",
    "boxes = {}\n",
    "for (idx,region) in enumerate(TKcanvas_setup_inst.obj_list):\n",
    "    boxes[region] = list(TKcanvas_setup_inst.full_obj_marker_list[idx])\n",
    "print(json.dumps(boxes))"
   ]
  },
  {
   "cell_type": "code",
   "execution_count": 1,
   "metadata": {},
   "outputs": [
    {
     "ename": "ModuleNotFoundError",
     "evalue": "No module named 'boto3'",
     "output_type": "error",
     "traceback": [
      "\u001b[1;31m---------------------------------------------------------------------------\u001b[0m",
      "\u001b[1;31mModuleNotFoundError\u001b[0m                       Traceback (most recent call last)",
      "\u001b[1;32m<ipython-input-1-ac8212f90031>\u001b[0m in \u001b[0;36m<module>\u001b[1;34m()\u001b[0m\n\u001b[1;32m----> 1\u001b[1;33m \u001b[1;32mimport\u001b[0m \u001b[0mboto3\u001b[0m\u001b[1;33m\u001b[0m\u001b[0m\n\u001b[0m\u001b[0;32m      2\u001b[0m \u001b[0mdynamodb\u001b[0m \u001b[1;33m=\u001b[0m \u001b[0mboto3\u001b[0m\u001b[1;33m.\u001b[0m\u001b[0mresource\u001b[0m\u001b[1;33m(\u001b[0m\u001b[1;34m'dynamodb'\u001b[0m\u001b[1;33m,\u001b[0m \u001b[0mregion_name\u001b[0m\u001b[1;33m=\u001b[0m\u001b[1;34m'us-west-2'\u001b[0m\u001b[1;33m)\u001b[0m\u001b[1;33m\u001b[0m\u001b[0m\n\u001b[0;32m      3\u001b[0m \u001b[0mtable\u001b[0m \u001b[1;33m=\u001b[0m \u001b[0mdynamodb\u001b[0m\u001b[1;33m.\u001b[0m\u001b[0mTable\u001b[0m\u001b[1;33m(\u001b[0m\u001b[1;34m'CE_Status_Table'\u001b[0m\u001b[1;33m)\u001b[0m\u001b[1;33m\u001b[0m\u001b[0m\n",
      "\u001b[1;31mModuleNotFoundError\u001b[0m: No module named 'boto3'"
     ]
    }
   ],
   "source": [
    "import boto3\n",
    "dynamodb = boto3.resource('dynamodb', region_name='us-west-2')\n",
    "table = dynamodb.Table('CE_Status_Table')"
   ]
  },
  {
   "cell_type": "code",
   "execution_count": 2,
   "metadata": {},
   "outputs": [],
   "source": [
    "arr = [{'Name': 'Bus', 'Confidence': 61.101375579833984}, {'Name': 'Vehicle', 'Confidence': 61.101375579833984}, {'Name': 'Moving Van', 'Confidence': 55.52613067626953}, {'Name': 'Moving Van', 'Confidence': 55.52613067626953}, {'Name': 'Van', 'Confidence': 55.52613067626953}]"
   ]
  },
  {
   "cell_type": "code",
   "execution_count": 5,
   "metadata": {},
   "outputs": [
    {
     "name": "stdout",
     "output_type": "stream",
     "text": [
      "Local date & time is  : 2018-07-12T18:44:07\n"
     ]
    }
   ],
   "source": [
    "import datetime\n",
    "from pytz import timezone\n",
    "import pytz\n",
    "\n",
    "date = datetime.datetime.now().astimezone(pytz.timezone('US/Pacific'))\n",
    "timestamp = date.strftime('%Y-%m-%dT%H:%M:%S')\n",
    "\n",
    "print ('Local date & time is  :', timestamp)\n"
   ]
  },
  {
   "cell_type": "code",
   "execution_count": 6,
   "metadata": {},
   "outputs": [
    {
     "name": "stdout",
     "output_type": "stream",
     "text": [
      "Local date & time is  : 2018-07-12T18:44:12\n"
     ]
    }
   ],
   "source": [
    "utc_date = pytz.timezone('UTC').localize(datetime.datetime.utcnow())\n",
    "local_date = utc_date.astimezone(pytz.timezone('US/Pacific'))\n",
    "timestamp = local_date.strftime('%Y-%m-%dT%H:%M:%S')\n",
    "print ('Local date & time is  :', timestamp)\n"
   ]
  },
  {
   "cell_type": "code",
   "execution_count": null,
   "metadata": {
    "collapsed": true
   },
   "outputs": [],
   "source": []
  }
 ],
 "metadata": {
  "kernelspec": {
   "display_name": "Python 3",
   "language": "python",
   "name": "python3"
  },
  "language_info": {
   "codemirror_mode": {
    "name": "ipython",
    "version": 3
   },
   "file_extension": ".py",
   "mimetype": "text/x-python",
   "name": "python",
   "nbconvert_exporter": "python",
   "pygments_lexer": "ipython3",
   "version": "3.6.1"
  }
 },
 "nbformat": 4,
 "nbformat_minor": 2
}
